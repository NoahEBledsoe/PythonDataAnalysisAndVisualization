{
 "cells": [
  {
   "cell_type": "code",
   "execution_count": 1,
   "metadata": {},
   "outputs": [],
   "source": [
    "#Importing the numpy library and aliasing it as 'np' to save time\n",
    "import numpy as np"
   ]
  },
  {
   "cell_type": "code",
   "execution_count": 2,
   "metadata": {},
   "outputs": [
    {
     "name": "stdout",
     "output_type": "stream",
     "text": [
      "[1 2 3]\n",
      "(3,)\n"
     ]
    }
   ],
   "source": [
    "#Creating a basic one dimensional array and printing out the contents and the shape\n",
    "myArray = np.array([1,2,3])\n",
    "print(myArray)\n",
    "print(myArray.shape)"
   ]
  },
  {
   "cell_type": "code",
   "execution_count": 3,
   "metadata": {},
   "outputs": [
    {
     "name": "stdout",
     "output_type": "stream",
     "text": [
      "1 2 3\n"
     ]
    }
   ],
   "source": [
    "#Printing out each individual element of the array by indexing\n",
    "print(myArray[0], myArray[1], myArray[2])"
   ]
  },
  {
   "cell_type": "code",
   "execution_count": 4,
   "metadata": {},
   "outputs": [
    {
     "name": "stdout",
     "output_type": "stream",
     "text": [
      "[5 2 3]\n"
     ]
    }
   ],
   "source": [
    "#Changing an element of the array\n",
    "myArray[0] = 5\n",
    "print(myArray)"
   ]
  },
  {
   "cell_type": "code",
   "execution_count": 8,
   "metadata": {},
   "outputs": [
    {
     "name": "stdout",
     "output_type": "stream",
     "text": [
      "[[1 2 3]\n",
      " [4 5 6]]\n",
      "(2, 3)\n"
     ]
    }
   ],
   "source": [
    "#Creating a two dimensional array and printing out the contents and the shape\n",
    "twoDimensionalArray = np.array([[1,2,3],\n",
    "                                [4,5,6]])\n",
    "print(twoDimensionalArray)\n",
    "print(twoDimensionalArray.shape)"
   ]
  },
  {
   "cell_type": "code",
   "execution_count": 9,
   "metadata": {},
   "outputs": [
    {
     "name": "stdout",
     "output_type": "stream",
     "text": [
      "1\n"
     ]
    }
   ],
   "source": [
    "#Printing out the first element by indexing using both the row number and column number\n",
    "print(twoDimensionalArray[0,0])"
   ]
  },
  {
   "cell_type": "code",
   "execution_count": 11,
   "metadata": {},
   "outputs": [
    {
     "name": "stdout",
     "output_type": "stream",
     "text": [
      "[1.4 2.3 3.6]\n",
      "['hello' 'world']\n"
     ]
    }
   ],
   "source": [
    "#Arrays are not limited to just integers\n",
    "floatArray = np.array([1.4, 2.3, 3.6])\n",
    "print(floatArray)\n",
    "\n",
    "stringArray = np.array(['hello', 'world'])\n",
    "print(stringArray)"
   ]
  },
  {
   "cell_type": "code",
   "execution_count": 17,
   "metadata": {},
   "outputs": [
    {
     "name": "stdout",
     "output_type": "stream",
     "text": [
      "[[0. 0. 0. 0. 0.]\n",
      " [0. 0. 0. 0. 0.]\n",
      " [0. 0. 0. 0. 0.]\n",
      " [0. 0. 0. 0. 0.]\n",
      " [0. 0. 0. 0. 0.]]\n",
      "[[1. 1. 1.]\n",
      " [1. 1. 1.]]\n",
      "[['hello' 'hello' 'hello' 'hello']\n",
      " ['hello' 'hello' 'hello' 'hello']\n",
      " ['hello' 'hello' 'hello' 'hello']\n",
      " ['hello' 'hello' 'hello' 'hello']]\n",
      "[[0.97086796 0.87258703 0.90155995]\n",
      " [0.95568007 0.30131359 0.30123314]\n",
      " [0.63167969 0.25157499 0.67187362]]\n"
     ]
    }
   ],
   "source": [
    "#There are many useful functions for creating arrays\n",
    "\n",
    "#Creating an array of a specified shape with all zeros\n",
    "zeroArray = np.zeros((5,5))\n",
    "print(zeroArray)\n",
    "\n",
    "#Creating an array of a specified shape with all ones\n",
    "onesArray = np.ones((2,3))\n",
    "print(onesArray)\n",
    "\n",
    "#Creating an array of a specified shape with any constant value\n",
    "constantArray = np.full((4,4), 'hello')\n",
    "print(constantArray)\n",
    "\n",
    "#Creating an array of a specified shape with random numbers between [0, 1)\n",
    "randArray = np.random.random((3,3))\n",
    "print(randArray)"
   ]
  },
  {
   "cell_type": "code",
   "execution_count": 21,
   "metadata": {},
   "outputs": [
    {
     "name": "stdout",
     "output_type": "stream",
     "text": [
      "[[ 1  2  3  4]\n",
      " [ 5  6  7  8]\n",
      " [ 9 10 11 12]]\n",
      "[[2 3]\n",
      " [6 7]]\n"
     ]
    }
   ],
   "source": [
    "#Just like with normal lists in Python, you can also 'slice' your array to cut out pieces you're interested in\n",
    "twoDimensionalArray = np.array([[1,2,3,4],\n",
    "                                [5,6,7,8],\n",
    "                                [9,10,11,12]])\n",
    "print(twoDimensionalArray)\n",
    "\n",
    "#Lets say we want the values in the first two rows AND the values in the middle two columns\n",
    "#Remember, with slicing, the number on the right side of the colon is non-inclusive\n",
    "alteredArray = twoDimensionalArray[:2, 1:3]\n",
    "print(alteredArray)"
   ]
  },
  {
   "cell_type": "code",
   "execution_count": 26,
   "metadata": {},
   "outputs": [
    {
     "name": "stdout",
     "output_type": "stream",
     "text": [
      "[[1 2 3]\n",
      " [4 5 6]\n",
      " [7 8 9]]\n",
      "[[2 3]\n",
      " [5 6]]\n",
      "[[ 1 75  3]\n",
      " [ 4  5  6]\n",
      " [ 7  8  9]]\n",
      "[[75  3]\n",
      " [ 5  6]]\n"
     ]
    }
   ],
   "source": [
    "#With numpy arrays, if you use one array to create a new array (Example: your new array is only the first two columns\n",
    "#of the original), if you modify your new array, it will also modify the original\n",
    "a = np.array([[1,2,3],\n",
    "              [4,5,6],\n",
    "              [7,8,9]])\n",
    "print(a)\n",
    "\n",
    "b = a[:2, 1:3]\n",
    "print(b)\n",
    "\n",
    "b[0,0] = 75\n",
    "print(a)\n",
    "print(b)\n",
    "\n",
    "#You can see that both arrays now have 75 even though we only modified 'b'"
   ]
  },
  {
   "cell_type": "code",
   "execution_count": 28,
   "metadata": {},
   "outputs": [
    {
     "name": "stdout",
     "output_type": "stream",
     "text": [
      "[[1 2]\n",
      " [3 4]\n",
      " [5 6]]\n",
      "[[False False]\n",
      " [ True  True]\n",
      " [ True  True]]\n",
      "[3 4 5 6]\n"
     ]
    }
   ],
   "source": [
    "#We can also return a boolean value if a certain value in your array satisfies a certain condition\n",
    "a = np.array([[1,2],\n",
    "              [3,4],\n",
    "              [5,6]])\n",
    "print(a)\n",
    "print(a > 2)\n",
    "\n",
    "#It returns false if an element is less than 2 and true if it's greater than or equal to\n",
    "\n",
    "#Boolean indexing can also be used to only return values that satisfy your condition\n",
    "print(a[a > 2])"
   ]
  },
  {
   "cell_type": "code",
   "execution_count": 38,
   "metadata": {},
   "outputs": [
    {
     "name": "stdout",
     "output_type": "stream",
     "text": [
      "[[ 6  8]\n",
      " [10 12]]\n",
      "[[ 6  8]\n",
      " [10 12]]\n",
      "[[-4 -4]\n",
      " [-4 -4]]\n",
      "[[-4 -4]\n",
      " [-4 -4]]\n",
      "[[ 5 12]\n",
      " [21 32]]\n",
      "[[ 5 12]\n",
      " [21 32]]\n",
      "[[0.2        0.33333333]\n",
      " [0.42857143 0.5       ]]\n",
      "[[0.2        0.33333333]\n",
      " [0.42857143 0.5       ]]\n",
      "10\n",
      "[4 6]\n",
      "[3 7]\n"
     ]
    }
   ],
   "source": [
    "#Math operations are also very easy to compute with numpy arrays\n",
    "x = np.array([[1,2],\n",
    "              [3,4]])\n",
    "y = np.array([[5,6],\n",
    "              [7,8]])\n",
    "\n",
    "#Addnig the array element-wise using both the + operator or the np.add() function\n",
    "print(x + y)\n",
    "print(np.add(x,y))\n",
    "\n",
    "#Doing the same with other operators\n",
    "print(x - y)\n",
    "print(np.subtract(x,y))\n",
    "\n",
    "print(x * y)\n",
    "print(np.multiply(x,y))\n",
    "\n",
    "print(x / y)\n",
    "print(np.divide(x,y))\n",
    "\n",
    "#Finding the sum of all elements in the array\n",
    "print(np.sum(x))\n",
    "\n",
    "#Finding the sum of each column\n",
    "print(np.sum(x, axis=0))\n",
    "\n",
    "#Fuinding the sum of each row\n",
    "print(np.sum(x, axis=1))"
   ]
  },
  {
   "cell_type": "code",
   "execution_count": null,
   "metadata": {},
   "outputs": [],
   "source": []
  }
 ],
 "metadata": {
  "kernelspec": {
   "display_name": "Python 3",
   "language": "python",
   "name": "python3"
  },
  "language_info": {
   "codemirror_mode": {
    "name": "ipython",
    "version": 3
   },
   "file_extension": ".py",
   "mimetype": "text/x-python",
   "name": "python",
   "nbconvert_exporter": "python",
   "pygments_lexer": "ipython3",
   "version": "3.7.6"
  }
 },
 "nbformat": 4,
 "nbformat_minor": 4
}
