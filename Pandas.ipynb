{
 "cells": [
  {
   "cell_type": "code",
   "execution_count": 1,
   "metadata": {},
   "outputs": [],
   "source": [
    "#Importing the pandas library and aliasing it as 'pd' for quicker coding\n",
    "import pandas as pd"
   ]
  },
  {
   "cell_type": "code",
   "execution_count": 2,
   "metadata": {},
   "outputs": [
    {
     "name": "stdout",
     "output_type": "stream",
     "text": [
      "0       Noah\n",
      "1       Hari\n",
      "2    Michael\n",
      "3       Zach\n",
      "4     Pralad\n",
      "dtype: object\n",
      "Noah\n",
      "1       Hari\n",
      "2    Michael\n",
      "dtype: object\n",
      "0    Noah\n",
      "1    Hari\n",
      "3    Zach\n",
      "dtype: object\n"
     ]
    }
   ],
   "source": [
    "#One of the main components of pandas are Series - very similar to a standard list in Python\n",
    "mySeries = pd.Series(['Noah', 'Hari', 'Michael', 'Zach', 'Pralad'])\n",
    "print(mySeries)\n",
    "\n",
    "#It's very easy to access any element in the series by indexing\n",
    "print(mySeries[0])\n",
    "\n",
    "#Slicing is also available with series\n",
    "print(mySeries[1:3])\n",
    "\n",
    "#You can also select multiple elements that aren't next to eachother by using double brackets\n",
    "print(mySeries[[0,1,3]])"
   ]
  },
  {
   "cell_type": "code",
   "execution_count": 3,
   "metadata": {},
   "outputs": [
    {
     "name": "stdout",
     "output_type": "stream",
     "text": [
      "1       Hari\n",
      "2    Michael\n",
      "3       Zach\n",
      "4     Pralad\n",
      "dtype: object\n"
     ]
    }
   ],
   "source": [
    "#We can also have boolean conditions that exclude certain elements based on your parameters\n",
    "parameter = mySeries != 'Noah'\n",
    "print(mySeries[parameter])#You can also just type the condition within the brackets instead of creating a variable"
   ]
  },
  {
   "cell_type": "code",
   "execution_count": 4,
   "metadata": {},
   "outputs": [
    {
     "name": "stdout",
     "output_type": "stream",
     "text": [
      "New York         500\n",
      "Chicago          700\n",
      "San Francisco    900\n",
      "Los Angeles      300\n",
      "dtype: int64\n",
      "Chicago          700\n",
      "San Francisco    900\n",
      "dtype: int64\n",
      "New York       500\n",
      "Los Angeles    300\n",
      "dtype: int64\n"
     ]
    }
   ],
   "source": [
    "#You can convert dictionaries into a series\n",
    "myDict = {'New York': 500, 'Chicago': 700, 'San Francisco': 900, 'Los Angeles': 300}\n",
    "cities = pd.Series(myDict)\n",
    "print(cities)\n",
    "\n",
    "#Slicing works with even in this scenario\n",
    "print(cities[['Chicago', 'San Francisco']])\n",
    "\n",
    "#Booleans work the same too\n",
    "print(cities[cities < 600])"
   ]
  },
  {
   "cell_type": "code",
   "execution_count": 5,
   "metadata": {},
   "outputs": [
    {
     "name": "stdout",
     "output_type": "stream",
     "text": [
      "New York         15000\n",
      "Chicago            700\n",
      "San Francisco      900\n",
      "Los Angeles      15000\n",
      "dtype: int64\n"
     ]
    }
   ],
   "source": [
    "#You may also change values based on your boolean\n",
    "cities[cities < 600] = 15000\n",
    "print(cities)"
   ]
  },
  {
   "cell_type": "code",
   "execution_count": 6,
   "metadata": {},
   "outputs": [
    {
     "name": "stdout",
     "output_type": "stream",
     "text": [
      "   apples  oranges\n",
      "0       3        4\n",
      "1       2        5\n",
      "2       0        0\n",
      "3       1        2\n",
      "          apples  oranges\n",
      "January        3        4\n",
      "February       2        5\n",
      "March          0        0\n",
      "April          1        2\n",
      "apples     1\n",
      "oranges    2\n",
      "Name: April, dtype: int64\n"
     ]
    }
   ],
   "source": [
    "#The next main component of pandas is the DataFrame structure. Think of it as a database table.\n",
    "\n",
    "#If you're starting from scratch, you can create your own dataframe\n",
    "data = {'apples': [3,2,0,1], 'oranges': [4,5,0,2]} #Creating two columns: apples and oranges and 4 rows\n",
    "myDataFrame = pd.DataFrame(data)\n",
    "print(myDataFrame)\n",
    "\n",
    "#By default, the index on the lefthand size are just incrementing numbers but we can change it to what we want\n",
    "monthlyPurchases = pd.DataFrame(data, index = ['January', 'February', 'March', 'April'])\n",
    "print(monthlyPurchases)\n",
    "\n",
    "#Let's say we want to see our purchases for April, we would use the 'loc' keyword for a row\n",
    "print(monthlyPurchases.loc['April'])"
   ]
  },
  {
   "cell_type": "code",
   "execution_count": 7,
   "metadata": {},
   "outputs": [
    {
     "name": "stdout",
     "output_type": "stream",
     "text": [
      "  pclass    age   sex survived\n",
      "0    1st  adult  male      yes\n",
      "1    1st  adult  male      yes\n",
      "2    1st  adult  male      yes\n",
      "3    1st  adult  male      yes\n",
      "4    1st  adult  male      yes\n"
     ]
    }
   ],
   "source": [
    "#The next logical step is to read in CSV files to your dataframe, my example is using the Titanic dataset which includes \n",
    "#data about people aboard the titanic. Change this to fit your dataset.\n",
    "titanic = pd.read_csv(r'C:\\Users\\noahe\\Documents\\Titanic.txt', sep = '\\t') #My data is separated by a tab\n",
    "\n",
    "#Using the head function to print the first 5 rows of our data set\n",
    "print(titanic.head()) "
   ]
  },
  {
   "cell_type": "code",
   "execution_count": 8,
   "metadata": {},
   "outputs": [
    {
     "name": "stdout",
     "output_type": "stream",
     "text": [
      "0       adult\n",
      "1       adult\n",
      "2       adult\n",
      "3       adult\n",
      "4       adult\n",
      "        ...  \n",
      "2196    adult\n",
      "2197    adult\n",
      "2198    adult\n",
      "2199    adult\n",
      "2200    adult\n",
      "Name: age, Length: 2201, dtype: object\n",
      "        age pclass\n",
      "0     adult    1st\n",
      "1     adult    1st\n",
      "2     adult    1st\n",
      "3     adult    1st\n",
      "4     adult    1st\n",
      "...     ...    ...\n",
      "2196  adult   crew\n",
      "2197  adult   crew\n",
      "2198  adult   crew\n",
      "2199  adult   crew\n",
      "2200  adult   crew\n",
      "\n",
      "[2201 rows x 2 columns]\n",
      "     pclass    age     sex survived\n",
      "1250    3rd  child    male       no\n",
      "1251    3rd  child    male       no\n",
      "1252    3rd  child    male       no\n",
      "1253    3rd  child    male       no\n",
      "1254    3rd  child    male       no\n",
      "1255    3rd  child    male       no\n",
      "1256    3rd  child    male       no\n",
      "1257    3rd  child    male       no\n",
      "1258    3rd  child    male       no\n",
      "1259    3rd  child    male       no\n",
      "1260    3rd  child    male       no\n",
      "1261    3rd  child    male       no\n",
      "1262    3rd  child    male       no\n",
      "1263    3rd  child    male       no\n",
      "1264    3rd  child    male       no\n",
      "1265    3rd  child    male       no\n",
      "1266    3rd  child    male       no\n",
      "1267    3rd  child    male       no\n",
      "1268    3rd  child    male       no\n",
      "1269    3rd  child    male       no\n",
      "1270    3rd  child    male       no\n",
      "1271    3rd  child    male       no\n",
      "1272    3rd  child    male       no\n",
      "1273    3rd  child    male       no\n",
      "1274    3rd  child    male       no\n",
      "1275    3rd  child    male       no\n",
      "1276    3rd  child    male       no\n",
      "1277    3rd  child    male       no\n",
      "1278    3rd  child    male       no\n",
      "1279    3rd  child    male       no\n",
      "1280    3rd  child    male       no\n",
      "1281    3rd  child    male       no\n",
      "1282    3rd  child    male       no\n",
      "1283    3rd  child    male       no\n",
      "1284    3rd  child    male       no\n",
      "1299    3rd  child  female       no\n",
      "1300    3rd  child  female       no\n",
      "1301    3rd  child  female       no\n",
      "1302    3rd  child  female       no\n",
      "1303    3rd  child  female       no\n",
      "1304    3rd  child  female       no\n",
      "1305    3rd  child  female       no\n",
      "1306    3rd  child  female       no\n",
      "1307    3rd  child  female       no\n",
      "1308    3rd  child  female       no\n",
      "1309    3rd  child  female       no\n",
      "1310    3rd  child  female       no\n",
      "1311    3rd  child  female       no\n",
      "1312    3rd  child  female       no\n",
      "1313    3rd  child  female       no\n",
      "1314    3rd  child  female       no\n",
      "1315    3rd  child  female       no\n"
     ]
    }
   ],
   "source": [
    "#Each column of a dataframe is a series object. Using indexing to select a column will return a series object\n",
    "print(titanic['age'])\n",
    "\n",
    "#Selecting more than one column will return a dataframe object\n",
    "print(titanic[['age', 'pclass']])\n",
    "\n",
    "#Booleans work on dataframes as well\n",
    "#Let's say we want only the children aboard the ship that did not survive\n",
    "print(titanic[(titanic.age=='child') & (titanic.survived=='no')])"
   ]
  },
  {
   "cell_type": "code",
   "execution_count": 9,
   "metadata": {},
   "outputs": [
    {
     "name": "stdout",
     "output_type": "stream",
     "text": [
      "    pclass    age     sex survived\n",
      "320    1st  child    male      yes\n",
      "321    1st  child    male      yes\n",
      "322    1st  child    male      yes\n",
      "323    1st  child    male      yes\n",
      "324    1st  child  female      yes\n",
      "325    2nd  adult    male      yes\n",
      "326    2nd  adult    male      yes\n",
      "327    2nd  adult    male      yes\n",
      "328    2nd  adult    male      yes\n",
      "329    2nd  adult    male      yes\n"
     ]
    }
   ],
   "source": [
    "#Slicing can also be done on rows by using typical list slicing syntax\n",
    "print(titanic[320:330])"
   ]
  },
  {
   "cell_type": "code",
   "execution_count": 10,
   "metadata": {},
   "outputs": [
    {
     "name": "stdout",
     "output_type": "stream",
     "text": [
      "age\n",
      "adult    2092\n",
      "child     109\n",
      "dtype: int64\n",
      "sex\n",
      "female     470\n",
      "male      1731\n",
      "dtype: int64\n",
      "survived  sex   \n",
      "no        female     126\n",
      "          male      1364\n",
      "yes       female     344\n",
      "          male       367\n",
      "dtype: int64\n"
     ]
    }
   ],
   "source": [
    "#Pandas also allows for a variety of SQL-like functions such as the GROUP BY method\n",
    "#Let's say we want a count of passengers by age group\n",
    "byAge = titanic.groupby('age')\n",
    "\n",
    "#Then printing out the numbers\n",
    "print(byAge.size())\n",
    "\n",
    "#Doing the same but grouping by sex\n",
    "print(titanic.groupby('sex').size())\n",
    "\n",
    "#You can also group by multiple columns\n",
    "print(titanic.groupby(['survived', 'sex']).size())"
   ]
  },
  {
   "cell_type": "code",
   "execution_count": 11,
   "metadata": {},
   "outputs": [],
   "source": [
    "#There's much more in Pandas but this should get you started"
   ]
  }
 ],
 "metadata": {
  "kernelspec": {
   "display_name": "Python 3",
   "language": "python",
   "name": "python3"
  },
  "language_info": {
   "codemirror_mode": {
    "name": "ipython",
    "version": 3
   },
   "file_extension": ".py",
   "mimetype": "text/x-python",
   "name": "python",
   "nbconvert_exporter": "python",
   "pygments_lexer": "ipython3",
   "version": "3.7.6"
  }
 },
 "nbformat": 4,
 "nbformat_minor": 4
}
